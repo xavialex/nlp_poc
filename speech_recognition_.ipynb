{
 "cells": [
  {
   "cell_type": "markdown",
   "metadata": {},
   "source": [
    "# Speech Recognition\n",
    "\n",
    "In this part we'll cover different solutions to translate wo words what's been recorded by a microphone in an audio file or by mic streaming."
   ]
  },
  {
   "cell_type": "code",
   "execution_count": 1,
   "metadata": {},
   "outputs": [],
   "source": [
    "import speech_recognition as sr"
   ]
  },
  {
   "cell_type": "markdown",
   "metadata": {},
   "source": [
    "## SpeechRecognition\n",
    "\n",
    "[SpeechRecognition](https://github.com/Uberi/speech_recognition) is a speech recognition library for Python. It handles various language processors, online and offline. Let's dive into its capabilities. First of all, let's create *Recognizer()* instance."
   ]
  },
  {
   "cell_type": "code",
   "execution_count": 3,
   "metadata": {},
   "outputs": [],
   "source": [
    "r = sr.Recognizer()"
   ]
  },
  {
   "cell_type": "markdown",
   "metadata": {},
   "source": [
    "Next, let's load an audio file. For it, select the location of the file and use the *record* method*"
   ]
  },
  {
   "cell_type": "code",
   "execution_count": 8,
   "metadata": {},
   "outputs": [],
   "source": [
    "harvard = sr.AudioFile('audio_data/harvard.wav')\n",
    "with harvard as source:\n",
    "    audio = r.record(source)"
   ]
  },
  {
   "cell_type": "markdown",
   "metadata": {},
   "source": [
    "There're several options to pass to the *record* method, such as:\n",
    ">**offset**: Seconds that shall pass before starting to perform the recognition  \n",
    ">**duration**: Duration in seconds of the clip of interest"
   ]
  },
  {
   "cell_type": "markdown",
   "metadata": {},
   "source": [
    "Finally, it's necessary to load any of the services that will deliver the actual text. These are:\n",
    "* CMU Sphinx (works offline)\n",
    "* Google Speech Recognition\n",
    "* Google Cloud Speech API\n",
    "* Wit.ai\n",
    "* Microsoft Bing Voice Recognition\n",
    "* Houndify API\n",
    "* IBM Speech to Text\n",
    "* Snowboy Hotword Detection (works offline)\n",
    "\n",
    "Once selected one of those, let's feed the data into it."
   ]
  },
  {
   "cell_type": "code",
   "execution_count": 10,
   "metadata": {},
   "outputs": [
    {
     "data": {
      "text/plain": [
       "'the stale smell of old beer lingers it takes heat to bring out the odor a cold dip restores health and zest a salt pickle taste fine with ham tacos al Pastore are my favorite a zestful food is the hot cross bun'"
      ]
     },
     "execution_count": 10,
     "metadata": {},
     "output_type": "execute_result"
    }
   ],
   "source": [
    "r.recognize_google(audio)"
   ]
  },
  {
   "cell_type": "markdown",
   "metadata": {},
   "source": [
    "In case there is some noise into the audio, there's a useful method to try to deal with it:"
   ]
  },
  {
   "cell_type": "code",
   "execution_count": 13,
   "metadata": {},
   "outputs": [
    {
     "data": {
      "text/plain": [
       "{'alternative': [{'transcript': 'the still smell like old beermongers',\n",
       "   'confidence': 0.62639838},\n",
       "  {'transcript': 'the snail smell like old beermongers'},\n",
       "  {'transcript': 'the still smell like old beer mongers'},\n",
       "  {'transcript': 'the still smell like old beer vendors'},\n",
       "  {'transcript': 'the snail smell like old beer mongers'}],\n",
       " 'final': True}"
      ]
     },
     "execution_count": 13,
     "metadata": {},
     "output_type": "execute_result"
    }
   ],
   "source": [
    "jackhammer = sr.AudioFile('audio_data/jackhammer.wav')\n",
    "\n",
    "with jackhammer as source:\n",
    "    r.adjust_for_ambient_noise(source, duration=0.5)\n",
    "    audio = r.record(source)\n",
    "\n",
    "r.recognize_google(audio, show_all=True)"
   ]
  },
  {
   "cell_type": "markdown",
   "metadata": {},
   "source": [
    "The duration parameter tries to take information of the audio's noise in the first given seconds and apply a sort of filter to the rest of the clip. Depending on the application, this or other techniques should be taken into consideration to achieve the best possible results."
   ]
  },
  {
   "cell_type": "code",
   "execution_count": null,
   "metadata": {},
   "outputs": [],
   "source": []
  },
  {
   "cell_type": "code",
   "execution_count": null,
   "metadata": {},
   "outputs": [],
   "source": []
  },
  {
   "cell_type": "code",
   "execution_count": null,
   "metadata": {},
   "outputs": [],
   "source": []
  },
  {
   "cell_type": "code",
   "execution_count": null,
   "metadata": {},
   "outputs": [],
   "source": []
  },
  {
   "cell_type": "code",
   "execution_count": null,
   "metadata": {},
   "outputs": [],
   "source": []
  },
  {
   "cell_type": "code",
   "execution_count": 5,
   "metadata": {},
   "outputs": [
    {
     "data": {
      "text/plain": [
       "\"this they'll smell of old we're lingers it takes heat to bring out the odor called it restores health and zest case all the colt is fine with him couples all pastore my favorite is as full food is the hot cross mon\""
      ]
     },
     "execution_count": 5,
     "metadata": {},
     "output_type": "execute_result"
    }
   ],
   "source": [
    "harvard = sr.AudioFile('audio_data/harvard.wav')\n",
    "\n",
    "with harvard as source:\n",
    "    audio = r.record(source)\n",
    "\n",
    "r.recognize_sphinx(audio)"
   ]
  }
 ],
 "metadata": {
  "kernelspec": {
   "display_name": "Python [conda env:nlp_env]",
   "language": "python",
   "name": "conda-env-nlp_env-py"
  },
  "language_info": {
   "codemirror_mode": {
    "name": "ipython",
    "version": 3
   },
   "file_extension": ".py",
   "mimetype": "text/x-python",
   "name": "python",
   "nbconvert_exporter": "python",
   "pygments_lexer": "ipython3",
   "version": "3.6.6"
  }
 },
 "nbformat": 4,
 "nbformat_minor": 2
}
