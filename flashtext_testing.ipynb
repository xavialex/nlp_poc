{
 "cells": [
  {
   "cell_type": "markdown",
   "metadata": {},
   "source": [
    "# FlashText\n",
    "\n",
    "[FlashText](https://github.com/vi3k6i5/flashtext) is an open source Natural Language Processing (NLP) library focused on keyword treatment. This is, it's possible to \"train\" a FlashText *KeywordProcessor()* with several keywords in order to be detected, modified, extracted, etc. from a given text. Although the approach might be simpler than others involving Deep Learning pretrained models as SpaCy, its simplicity and ease-of-use is worth considering for scenarios so domain specific as the one in consideration. Furthermore, as the script defines the entire keyword collection of interest, the processing remains language-agnostic."
   ]
  },
  {
   "cell_type": "code",
   "execution_count": null,
   "metadata": {},
   "outputs": [],
   "source": [
    "from flashtext import KeywordProcessor\n",
    "import numpy as np"
   ]
  },
  {
   "cell_type": "markdown",
   "metadata": {},
   "source": [
    "## Creating a Keyword Processor instance\n",
    "\n",
    "The Keyword Processor is FlashText's core tool. Once initialized, it shall be used to store all the defined keywords. This is going to be further explained in the next sections. It'll then be used to process any kind of text to look for this keywords. Finally, several options exist such as locating them, replacing them, etc. Let's begin with this very first line."
   ]
  },
  {
   "cell_type": "code",
   "execution_count": 2,
   "metadata": {},
   "outputs": [],
   "source": [
    "keyword_processor = KeywordProcessor(case_sensitive=False)"
   ]
  },
  {
   "cell_type": "markdown",
   "metadata": {},
   "source": [
    "## Adding keywords\n",
    "\n",
    "This is the main step when using FlashText. With the *add_key* method you define which are the keywords of interest that might appear in a given text. It also takes a second optional argument, the *\"clean name\"*, which replaces the previously defined keyword if found. "
   ]
  },
  {
   "cell_type": "code",
   "execution_count": 3,
   "metadata": {},
   "outputs": [
    {
     "data": {
      "text/plain": [
       "True"
      ]
     },
     "execution_count": 3,
     "metadata": {},
     "output_type": "execute_result"
    }
   ],
   "source": [
    "keyword_processor.add_keyword(\"framework standalone\", \"standalone\")"
   ]
  },
  {
   "cell_type": "markdown",
   "metadata": {},
   "source": [
    "It's also possible to include multiple keywords at a time in a dictionary fashion. In this way, the *\"clean name\"* comes first as the key, and the value can be one or many possible keywords that will map to the same key."
   ]
  },
  {
   "cell_type": "code",
   "execution_count": 12,
   "metadata": {},
   "outputs": [],
   "source": [
    "keyword_dict = {\n",
    "    \"fwk online\": [\"framework online\", \"online\"],\n",
    "    \"compilar\": [\"lanzar\", \"ejecutar\"]\n",
    "}\n",
    "keyword_processor.add_keywords_from_dict(keyword_dict)"
   ]
  },
  {
   "cell_type": "markdown",
   "metadata": {},
   "source": [
    "This means, for every instance of the words \"framework online\" or \"online\", those'll be replaced by the *clean name* defined in the dictionary, \"fwk online\" in this case."
   ]
  },
  {
   "cell_type": "markdown",
   "metadata": {},
   "source": [
    "## Getting all keywords in dictionary"
   ]
  },
  {
   "cell_type": "code",
   "execution_count": 49,
   "metadata": {},
   "outputs": [
    {
     "data": {
      "text/plain": [
       "{'framework standalone': 'standalone',\n",
       " 'framework online': 'fwk online',\n",
       " 'online': 'fwk online'}"
      ]
     },
     "execution_count": 49,
     "metadata": {},
     "output_type": "execute_result"
    }
   ],
   "source": [
    "keyword_processor.get_all_keywords()"
   ]
  },
  {
   "cell_type": "markdown",
   "metadata": {},
   "source": [
    "## Extract keywords\n",
    "\n",
    "Find which defined keywords appear in a given text."
   ]
  },
  {
   "cell_type": "code",
   "execution_count": 21,
   "metadata": {},
   "outputs": [
    {
     "name": "stdout",
     "output_type": "stream",
     "text": [
      "Text: Quiero lanzar el framework standalone en Jenkins, \n",
      "Keywords found: ['compilar', 'standalone']\n"
     ]
    }
   ],
   "source": [
    "text = \"Quiero lanzar el framework standalone en Jenkins\"\n",
    "keywords_found = keyword_processor.extract_keywords(text)\n",
    "print(\"Text: {0}, \\nKeywords found: {1}\".format(text, keywords_found))"
   ]
  },
  {
   "cell_type": "markdown",
   "metadata": {},
   "source": [
    "## Replace keywords"
   ]
  },
  {
   "cell_type": "code",
   "execution_count": 42,
   "metadata": {},
   "outputs": [
    {
     "name": "stdout",
     "output_type": "stream",
     "text": [
      "Original text: Quiero lanzar el framework standalone en Jenkins \n",
      "New text: Quiero compilar el standalone en Jenkins\n"
     ]
    }
   ],
   "source": [
    "text = \"Quiero lanzar el framework standalone en Jenkins\"\n",
    "replaced_text = keyword_processor.replace_keywords(text)\n",
    "print(\"Original text: {0} \\nNew text: {1}\".format(text, replaced_text))"
   ]
  },
  {
   "cell_type": "markdown",
   "metadata": {},
   "source": [
    "## Remove keywords"
   ]
  },
  {
   "cell_type": "code",
   "execution_count": 48,
   "metadata": {},
   "outputs": [
    {
     "name": "stdout",
     "output_type": "stream",
     "text": [
      "Text: Quiero lanzar el framework standalone en Jenkins, \n",
      "Keywords found: ['standalone']\n"
     ]
    }
   ],
   "source": [
    "keyword_processor.remove_keywords_from_dict({\"compilar\": [\"lanzar\", \"ejecutar\"]})\n",
    "text = \"Quiero lanzar el framework standalone en Jenkins\"\n",
    "keywords_found = keyword_processor.extract_keywords(text)\n",
    "print(\"Text: {0}, \\nKeywords found: {1}\".format(text, keywords_found))"
   ]
  },
  {
   "cell_type": "code",
   "execution_count": null,
   "metadata": {},
   "outputs": [],
   "source": []
  }
 ],
 "metadata": {
  "kernelspec": {
   "display_name": "Python [conda env:nlp_env]",
   "language": "python",
   "name": "conda-env-nlp_env-py"
  },
  "language_info": {
   "codemirror_mode": {
    "name": "ipython",
    "version": 3
   },
   "file_extension": ".py",
   "mimetype": "text/x-python",
   "name": "python",
   "nbconvert_exporter": "python",
   "pygments_lexer": "ipython3",
   "version": "3.6.6"
  }
 },
 "nbformat": 4,
 "nbformat_minor": 2
}
